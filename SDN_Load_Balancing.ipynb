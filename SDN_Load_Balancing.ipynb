{
  "nbformat": 4,
  "nbformat_minor": 0,
  "metadata": {
    "colab": {
      "name": "SDN Load Balancing.ipynb",
      "provenance": [],
      "collapsed_sections": [],
      "authorship_tag": "ABX9TyMF7axRM5nsoiSCgEkx3e+9",
      "include_colab_link": true
    },
    "kernelspec": {
      "name": "python3",
      "display_name": "Python 3"
    },
    "language_info": {
      "name": "python"
    }
  },
  "cells": [
    {
      "cell_type": "markdown",
      "metadata": {
        "id": "view-in-github",
        "colab_type": "text"
      },
      "source": [
        "<a href=\"https://colab.research.google.com/github/Imperial-lord/sdn-controllers-load-balancing/blob/main/SDN_Load_Balancing.ipynb\" target=\"_parent\"><img src=\"https://colab.research.google.com/assets/colab-badge.svg\" alt=\"Open In Colab\"/></a>"
      ]
    },
    {
      "cell_type": "code",
      "metadata": {
        "id": "QNJqEYd59W7K",
        "colab": {
          "base_uri": "https://localhost:8080/"
        },
        "outputId": "fde56742-63c1-4134-db03-b2877c55ecef"
      },
      "source": [
        "import networkx as nx\n",
        "import time\n",
        "\n",
        "from math import radians, cos, sin, asin, sqrt\n",
        "\n",
        "\n",
        "k = int(input(\"Enter the number of controllers to allocate: \"))\n",
        "start = time.time()\n",
        "graph = nx.read_gml('Arnes.gml', label='id')\n",
        "\n",
        "lat = nx.get_node_attributes(graph, \"Latitude\")\n",
        "lon = nx.get_node_attributes(graph, \"Longitude\")\n",
        "\n",
        "# Remove bad nodes from 'graph'\n",
        "for node in list(graph.nodes):\n",
        "    # removing nodes \n",
        "    # (a) with undefined latitude or longitude  \n",
        "    # (b) that are isolated\n",
        "    check_bad_node = lat.get(node) == None or lon.get(node) == None or nx.is_isolate(graph,node)\n",
        "    if check_bad_node == True:\n",
        "        graph.remove_node(node)\n",
        "\n",
        "\n",
        "def dist_between_nodes(node_1, node_2):\n",
        "    '''Compute distance between any 2 nodes of 'graph' using Haversine formula\n",
        "\n",
        "    Args:\n",
        "        node_1 (int): The first among the 2 graph nodes \n",
        "        node_2 (int): The second among the 2 graph nodes \n",
        "\n",
        "    Returns:\n",
        "        dist: distanct between the two nodes\n",
        "    '''\n",
        "    lat_1 = radians(lat.get(node_1))\n",
        "    lat_2 = radians(lat.get(node_2))\n",
        "    lon_1 = radians(lon.get(node_1))\n",
        "    lon_2 = radians(lon.get(node_2))\n",
        "\n",
        "    # Applying Haversine formula\n",
        "    dlon = lon_2 - lon_1\n",
        "    dlat = lat_2 - lat_1\n",
        "    a = sin(dlat/2)**2 + cos(lat_1)*cos(lat_2)*sin(dlon/2)**2\n",
        "    c = 2*asin(sqrt(a))\n",
        "\n",
        "    # Mean radius of Earth\n",
        "    R = 6371.009\n",
        "    dist = c*R\n",
        "\n",
        "    return dist\n",
        "\n",
        "# Assigning weights (based on distance) to the edges of the graph\n",
        "for node in list(graph.nodes):\n",
        "    for neighbor in list(graph.neighbors(node)):\n",
        "        graph[node][neighbor]['weight'] = dist_between_nodes(node, neighbor)\n",
        "\n",
        "# Removing edges with no weights assigned\n",
        "for edge in list(graph.edges):\n",
        "    if 'weight' not in graph.edges[edge] == False:\n",
        "        graph.remove_edge(edge[0],edge[1])\n",
        "\n",
        "print(nx.info(graph))\n"
      ],
      "execution_count": 20,
      "outputs": [
        {
          "output_type": "stream",
          "text": [
            "Enter the number of controllers to allocate: 20\n",
            "Graph with 34 nodes and 46 edges\n"
          ],
          "name": "stdout"
        }
      ]
    }
  ]
}